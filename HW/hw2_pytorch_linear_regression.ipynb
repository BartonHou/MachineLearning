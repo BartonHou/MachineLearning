{
 "cells": [
  {
   "cell_type": "code",
   "execution_count": 21,
   "metadata": {},
   "outputs": [],
   "source": [
    "import pandas as pd\n",
    "import numpy as np\n",
    "from sklearn.preprocessing import MinMaxScaler\n",
    "from sklearn.model_selection import train_test_split\n",
    "import torch\n",
    "from torch.autograd import Variable\n",
    "from sklearn.metrics import r2_score\n",
    "import matplotlib.pyplot as plt"
   ]
  },
  {
   "cell_type": "code",
   "execution_count": 22,
   "metadata": {},
   "outputs": [
    {
     "name": "stdout",
     "output_type": "stream",
     "text": [
      "  Species  Weight  Length1  Length2  Length3   Height   Width\n",
      "0   Bream   242.0     23.2     25.4     30.0  11.5200  4.0200\n",
      "1   Bream   290.0     24.0     26.3     31.2  12.4800  4.3056\n",
      "2   Bream   340.0     23.9     26.5     31.1  12.3778  4.6961\n",
      "3   Bream   363.0     26.3     29.0     33.5  12.7300  4.4555\n",
      "4   Bream   430.0     26.5     29.0     34.0  12.4440  5.1340\n"
     ]
    }
   ],
   "source": [
    "url  = \"https://calmcode.io/static/data/fish.csv\"\n",
    "df = pd.read_csv(url)\n",
    "print(df.head())\n"
   ]
  },
  {
   "cell_type": "code",
   "execution_count": 23,
   "metadata": {},
   "outputs": [
    {
     "name": "stdout",
     "output_type": "stream",
     "text": [
      "[0.14666667 0.17575758 0.20606061 0.22       0.26060606 0.27272727\n",
      " 0.3030303  0.23636364 0.27272727 0.3030303  0.28787879 0.3030303\n",
      " 0.3030303  0.20606061 0.36363636 0.36363636 0.42424242 0.42424242\n",
      " 0.36969697 0.39393939 0.34848485 0.41515152 0.37575758 0.41212121\n",
      " 0.42424242 0.43939394 0.43636364 0.43272727 0.51515152 0.60606061\n",
      " 0.55757576 0.57878788 0.56060606 0.59090909 0.57575758 0.02424242\n",
      " 0.04181818 0.04727273 0.05272727 0.07272727 0.         0.06666667\n",
      " 0.07272727 0.09090909 0.08787879 0.0969697  0.08484848 0.0969697\n",
      " 0.10242424 0.09757576 0.12121212 0.10909091 0.17575758 0.16484848\n",
      " 0.23636364 0.16363636 0.16363636 0.18545455 0.32727273 0.48484848\n",
      " 0.60606061 0.03333333 0.03636364 0.05454545 0.07272727 0.09090909\n",
      " 0.08484848 0.1030303  0.08787879 0.12121212 0.16545455 0.18181818\n",
      " 0.00357576 0.01939394 0.02424242 0.03121212 0.04242424 0.06060606\n",
      " 0.04727273 0.04848485 0.05151515 0.05151515 0.06666667 0.06969697\n",
      " 0.07575758 0.07878788 0.07272727 0.07272727 0.07878788 0.08181818\n",
      " 0.06666667 0.07878788 0.09090909 0.08787879 0.09090909 0.1030303\n",
      " 0.13636364 0.08787879 0.11393939 0.10909091 0.11939394 0.13212121\n",
      " 0.18181818 0.15757576 0.16060606 0.15151515 0.15151515 0.18181818\n",
      " 0.19393939 0.31151515 0.3369697  0.50909091 0.41515152 0.42424242\n",
      " 0.42424242 0.41818182 0.54545455 0.39393939 0.4969697  0.51515152\n",
      " 0.54545455 0.61515152 0.4969697  0.66666667 0.60606061 0.66666667\n",
      " 0.60606061 0.60606061 0.12121212 0.18181818 0.18181818 0.18181818\n",
      " 0.26060606 0.20909091 0.27636364 0.30909091 0.32727273 0.3030303\n",
      " 0.34363636 0.46666667 0.57575758 0.75757576 0.96969697 0.93939394\n",
      " 1.         0.00406061 0.00454545 0.00424242 0.00587879 0.00593939\n",
      " 0.00527273 0.00606061 0.006      0.00593939 0.00739394 0.00812121\n",
      " 0.00739394 0.01193939 0.01206061]\n"
     ]
    }
   ],
   "source": [
    "scaler = MinMaxScaler(feature_range=(0, 1))\n",
    "model= scaler.fit(df.iloc[:, 1:])\n",
    "data=model.transform(df.iloc[:, 1:])\n",
    "X = data[:,1:]\n",
    "y = data[:,0]\n",
    "print(y)"
   ]
  },
  {
   "cell_type": "code",
   "execution_count": 24,
   "metadata": {},
   "outputs": [
    {
     "name": "stdout",
     "output_type": "stream",
     "text": [
      "[[1.94174757e-01 1.92727273e-01 2.11148649e-01 3.86787087e-01\n",
      "  2.63658660e-01]\n",
      " [5.80582524e-01 5.92727273e-01 6.26689189e-01 9.81333364e-01\n",
      "  8.03408322e-01]\n",
      " [5.74757282e-01 5.74545455e-01 5.69256757e-01 5.45987486e-01\n",
      "  7.86874154e-01]\n",
      " [0.00000000e+00 0.00000000e+00 0.00000000e+00 2.22653030e-02\n",
      "  5.08006315e-02]\n",
      " [4.64077670e-01 4.65454545e-01 5.13513514e-01 8.27995310e-01\n",
      "  6.09325665e-01]\n",
      " [3.57281553e-01 3.56363636e-01 3.47972973e-01 3.53598087e-01\n",
      "  4.44942490e-01]\n",
      " [4.69902913e-01 4.65454545e-01 4.89864865e-01 2.30976400e-01\n",
      "  4.38430311e-01]\n",
      " [1.68932039e-01 1.74545455e-01 1.75675676e-01 2.02802317e-01\n",
      "  3.20534506e-01]\n",
      " [1.94174757e-01 1.89090909e-01 2.09459459e-01 2.23303112e-01\n",
      "  2.61727560e-01]\n",
      " [4.75728155e-01 4.74545455e-01 4.67905405e-01 4.94996692e-01\n",
      "  7.52692264e-01]\n",
      " [4.56310680e-01 4.56363636e-01 5.05067568e-01 7.39781526e-01\n",
      "  6.59675237e-01]\n",
      " [3.90291262e-01 3.92727273e-01 4.42567568e-01 6.35083524e-01\n",
      "  5.13419035e-01]\n",
      " [3.76699029e-01 3.69090909e-01 3.59797297e-01 3.39946368e-01\n",
      "  5.05722824e-01]\n",
      " [2.07766990e-01 2.07272727e-01 2.26351351e-01 2.25682876e-01\n",
      "  2.99813938e-01]\n",
      " [4.36893204e-01 4.34545455e-01 4.39189189e-01 2.22861985e-01\n",
      "  3.28146143e-01]\n",
      " [2.71844660e-01 2.74545455e-01 2.73648649e-01 2.63898401e-01\n",
      "  3.77396256e-01]\n",
      " [3.04854369e-01 3.09090909e-01 3.58108108e-01 5.68334049e-01\n",
      "  4.18978349e-01]\n",
      " [2.23300971e-01 2.29090909e-01 2.31418919e-01 2.43148021e-01\n",
      "  3.18547023e-01]\n",
      " [3.94174757e-01 3.92727273e-01 3.85135135e-01 3.41710876e-01\n",
      "  5.24921065e-01]\n",
      " [3.12621359e-01 3.20000000e-01 3.36148649e-01 3.86102179e-01\n",
      "  4.51059991e-01]\n",
      " [2.38834951e-01 2.38181818e-01 2.58445946e-01 4.64808516e-01\n",
      "  2.97347203e-01]\n",
      " [3.20388350e-01 3.20000000e-01 3.44594595e-01 4.14914735e-01\n",
      "  4.86186288e-01]\n",
      " [3.10679612e-01 3.12727273e-01 3.07432432e-01 2.80498706e-01\n",
      "  4.49847767e-01]\n",
      " [3.49514563e-02 2.54545455e-02 3.37837838e-02 6.03647423e-04\n",
      "  0.00000000e+00]\n",
      " [4.89320388e-01 4.83636364e-01 5.06756757e-01 2.44245034e-01\n",
      "  4.70342806e-01]\n",
      " [4.27184466e-01 4.23636364e-01 4.42567568e-01 4.50216500e-01\n",
      "  6.07154939e-01]\n",
      " [5.72815534e-01 5.74545455e-01 5.67567568e-01 6.18297482e-01\n",
      "  9.04206134e-01]\n",
      " [7.37864078e-02 6.18181818e-02 7.26351351e-02 2.81798869e-02\n",
      "  3.32938656e-02]\n",
      " [3.65048544e-01 3.74545455e-01 4.17229730e-01 6.38566105e-01\n",
      "  4.80364795e-01]\n",
      " [4.07766990e-01 4.05454545e-01 4.62837838e-01 7.25433291e-01\n",
      "  5.51392648e-01]\n",
      " [1.22330097e-01 1.20000000e-01 1.25000000e-01 6.98721893e-02\n",
      "  1.17219215e-01]\n",
      " [5.43689320e-01 5.38181818e-01 5.35472973e-01 3.22812068e-01\n",
      "  4.97420501e-01]]\n"
     ]
    }
   ],
   "source": [
    "species = df['Species']\n",
    "\n",
    "X_train, X_test, y_train, y_test = train_test_split(X, y,stratify=species, test_size=0.2, random_state=0)\n",
    "print(X_test)"
   ]
  },
  {
   "cell_type": "code",
   "execution_count": 25,
   "metadata": {},
   "outputs": [],
   "source": [
    "class LinearRegressionModel(torch.nn.Module):\n",
    " \n",
    "    def __init__(self):\n",
    "        super(LinearRegressionModel, self).__init__()\n",
    "        self.linear = torch.nn.Linear(5, 1)  # One in and one out\n",
    " \n",
    "    def forward(self, x):\n",
    "        y_pred = self.linear(x)\n",
    "        return y_pred"
   ]
  },
  {
   "cell_type": "code",
   "execution_count": 26,
   "metadata": {},
   "outputs": [],
   "source": [
    "linear_model = LinearRegressionModel()\n",
    "X_train = torch.tensor(X_train).to(torch.float32)\n",
    "y_train = torch.tensor(y_train).to(torch.float32)\n",
    "X_test = torch.tensor(X_test).to(torch.float32)\n",
    "y_test = torch.tensor(y_test).to(torch.float32)\n",
    "\n",
    "criterion = torch.nn.MSELoss()\n",
    "optimizer = torch.optim.SGD(linear_model.parameters(), lr = 0.01)"
   ]
  },
  {
   "cell_type": "code",
   "execution_count": 27,
   "metadata": {},
   "outputs": [
    {
     "name": "stdout",
     "output_type": "stream",
     "text": [
      "epoch 9, loss 0.14693614840507507\n",
      "epoch 19, loss 0.07948874682188034\n",
      "epoch 29, loss 0.04854651913046837\n",
      "epoch 39, loss 0.034149330109357834\n",
      "epoch 49, loss 0.027259228751063347\n",
      "epoch 59, loss 0.023783529177308083\n",
      "epoch 69, loss 0.02186855673789978\n",
      "epoch 79, loss 0.02067442052066326\n",
      "epoch 89, loss 0.019820265471935272\n",
      "epoch 99, loss 0.01913307048380375\n",
      "epoch 109, loss 0.018533963710069656\n",
      "epoch 119, loss 0.017986711114645004\n",
      "epoch 129, loss 0.017474401742219925\n",
      "epoch 139, loss 0.016988905146718025\n",
      "epoch 149, loss 0.016526076942682266\n",
      "epoch 159, loss 0.016083605587482452\n",
      "epoch 169, loss 0.015660015866160393\n",
      "epoch 179, loss 0.015254237689077854\n",
      "epoch 189, loss 0.014865401200950146\n",
      "epoch 199, loss 0.014492743648588657\n",
      "epoch 209, loss 0.014135556295514107\n",
      "epoch 219, loss 0.013793187215924263\n",
      "epoch 229, loss 0.013465004973113537\n",
      "epoch 239, loss 0.013150421902537346\n",
      "epoch 249, loss 0.012848862446844578\n",
      "epoch 259, loss 0.01255978737026453\n",
      "epoch 269, loss 0.012282670475542545\n",
      "epoch 279, loss 0.012017015367746353\n"
     ]
    },
    {
     "name": "stdout",
     "output_type": "stream",
     "text": [
      "epoch 289, loss 0.011762339621782303\n",
      "epoch 299, loss 0.011518188752233982\n",
      "epoch 309, loss 0.011284123174846172\n",
      "epoch 319, loss 0.0110597163438797\n",
      "epoch 329, loss 0.010844570584595203\n",
      "epoch 339, loss 0.010638299398124218\n",
      "epoch 349, loss 0.010440530255436897\n",
      "epoch 359, loss 0.010250906459987164\n",
      "epoch 369, loss 0.010069092735648155\n",
      "epoch 379, loss 0.009894761256873608\n",
      "epoch 389, loss 0.009727598167955875\n",
      "epoch 399, loss 0.009567308239638805\n",
      "epoch 409, loss 0.009413601830601692\n",
      "epoch 419, loss 0.009266206994652748\n",
      "epoch 429, loss 0.009124858304858208\n",
      "epoch 439, loss 0.008989304304122925\n",
      "epoch 449, loss 0.008859304711222649\n",
      "epoch 459, loss 0.008734626695513725\n",
      "epoch 469, loss 0.008615050464868546\n",
      "epoch 479, loss 0.008500359952449799\n",
      "epoch 489, loss 0.008390356786549091\n",
      "epoch 499, loss 0.008284843526780605\n",
      "epoch 509, loss 0.008183633908629417\n",
      "epoch 519, loss 0.008086546324193478\n",
      "epoch 529, loss 0.00799341220408678\n",
      "epoch 539, loss 0.00790406297892332\n",
      "epoch 549, loss 0.00781834777444601\n",
      "epoch 559, loss 0.007736111059784889\n",
      "epoch 569, loss 0.0076572103425860405\n",
      "epoch 579, loss 0.00758150452747941\n",
      "epoch 589, loss 0.007508864626288414\n",
      "epoch 599, loss 0.007439160253852606\n",
      "epoch 609, loss 0.007372270338237286\n",
      "epoch 619, loss 0.007308076601475477\n",
      "epoch 629, loss 0.0072464714758098125\n",
      "epoch 639, loss 0.007187343202531338\n",
      "epoch 649, loss 0.007130591664463282\n",
      "epoch 659, loss 0.00707611721009016\n",
      "epoch 669, loss 0.007023828104138374\n",
      "epoch 679, loss 0.006973630283027887\n",
      "epoch 689, loss 0.006925439462065697\n",
      "epoch 699, loss 0.006879171822220087\n",
      "epoch 709, loss 0.006834745407104492\n",
      "epoch 719, loss 0.006792088039219379\n",
      "epoch 729, loss 0.006751125678420067\n",
      "epoch 739, loss 0.006711787544190884\n",
      "epoch 749, loss 0.006674007512629032\n",
      "epoch 759, loss 0.006637718062847853\n",
      "epoch 769, loss 0.006602863781154156\n",
      "epoch 779, loss 0.006569379009306431\n",
      "epoch 789, loss 0.006537211127579212\n",
      "epoch 799, loss 0.006506305653601885\n",
      "epoch 809, loss 0.006476608570665121\n",
      "epoch 819, loss 0.00644807331264019\n",
      "epoch 829, loss 0.006420648191124201\n",
      "epoch 839, loss 0.0063942912966012955\n",
      "epoch 849, loss 0.006368956994265318\n",
      "epoch 859, loss 0.006344603840261698\n",
      "epoch 869, loss 0.0063211917877197266\n",
      "epoch 879, loss 0.006298679858446121\n",
      "epoch 889, loss 0.006277034059166908\n",
      "epoch 899, loss 0.006256218999624252\n",
      "epoch 909, loss 0.006236199755221605\n",
      "epoch 919, loss 0.006216943729668856\n",
      "epoch 929, loss 0.0061984192579984665\n",
      "epoch 939, loss 0.006180599331855774\n",
      "epoch 949, loss 0.006163450889289379\n",
      "epoch 959, loss 0.006146949250251055\n",
      "epoch 969, loss 0.006131066009402275\n",
      "epoch 979, loss 0.006115779280662537\n",
      "epoch 989, loss 0.006101063918322325\n",
      "epoch 999, loss 0.0060868957079946995\n"
     ]
    }
   ],
   "source": [
    "\n",
    "error = []\n",
    "for epoch in range(1000):\n",
    " \n",
    "    # Forward pass: Compute predicted y by passing \n",
    "    # x to the model\n",
    "    linear_model.train()\n",
    "    optimizer.zero_grad()\n",
    "    pred_y = linear_model(X_train).squeeze()\n",
    "    loss = criterion(pred_y, y_train)\n",
    "    loss.backward()\n",
    "    error.append(loss.item())\n",
    "    optimizer.step()\n",
    "    if (epoch + 1) % 10 == 0:\n",
    "        print('epoch {}, loss {}'.format(epoch, loss.item()))"
   ]
  },
  {
   "cell_type": "code",
   "execution_count": 28,
   "metadata": {},
   "outputs": [
    {
     "data": {
      "image/png": "[encoded data removed]",
      "text/plain": [
       "<Figure size 640x480 with 1 Axes>"
      ]
     },
     "metadata": {},
     "output_type": "display_data"
    }
   ],
   "source": [
    "plt.plot(error)\n",
    "plt.show()"
   ]
  },
  {
   "cell_type": "code",
   "execution_count": 29,
   "metadata": {},
   "outputs": [
    {
     "name": "stdout",
     "output_type": "stream",
     "text": [
      "The coefficient is  Parameter containing:\n",
      "tensor([[0.0531, 0.0830, 0.4546, 0.0809, 0.2810]], requires_grad=True)\n",
      "The intercept is  Parameter containing:\n",
      "tensor([-0.1397], requires_grad=True)\n"
     ]
    }
   ],
   "source": [
    "[w, b] = linear_model.parameters()\n",
    "print(\"The coefficient is \", w)\n",
    "print(\"The intercept is \", b)"
   ]
  },
  {
   "cell_type": "code",
   "execution_count": 30,
   "metadata": {},
   "outputs": [
    {
     "name": "stdout",
     "output_type": "stream",
     "text": [
      "The R^2 for training data is  0.8816119432449341\n",
      "The R^2 for testing data is  0.7965866923332214\n"
     ]
    }
   ],
   "source": [
    "linear_model.eval()\n",
    "y_pred_train = torch.flatten(linear_model(X_train))\n",
    "y_pred_test = torch.flatten(linear_model(X_test))\n",
    "\n",
    "print(\"The R^2 for training data is \", r2_score(y_train, y_pred_train.detach().numpy()))\n",
    "print(\"The R^2 for testing data is \", r2_score(y_test, y_pred_test.detach().numpy()))"
   ]
  },
  {
   "cell_type": "code",
   "execution_count": null,
   "metadata": {},
   "outputs": [],
   "source": []
  }
 ],
 "metadata": {
  "kernelspec": {
   "display_name": "myenv",
   "language": "python",
   "name": "python3"
  },
  "language_info": {
   "codemirror_mode": {
    "name": "ipython",
    "version": 3
   },
   "file_extension": ".py",
   "mimetype": "text/x-python",
   "name": "python",
   "nbconvert_exporter": "python",
   "pygments_lexer": "ipython3",
   "version": "3.12.0"
  }
 },
 "nbformat": 4,
 "nbformat_minor": 2
}
